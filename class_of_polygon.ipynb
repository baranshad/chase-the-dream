{
  "nbformat": 4,
  "nbformat_minor": 0,
  "metadata": {
    "colab": {
      "name": "class_of_polygon",
      "version": "0.3.2",
      "provenance": [],
      "collapsed_sections": [],
      "include_colab_link": true
    },
    "kernelspec": {
      "name": "python3",
      "display_name": "Python 3"
    }
  },
  "cells": [
    {
      "cell_type": "markdown",
      "metadata": {
        "id": "view-in-github",
        "colab_type": "text"
      },
      "source": [
        "<a href=\"https://colab.research.google.com/github/baranshad/chase-the-dream/blob/master/class_of_polygon.ipynb\" target=\"_parent\"><img src=\"https://colab.research.google.com/assets/colab-badge.svg\" alt=\"Open In Colab\"/></a>"
      ]
    },
    {
      "cell_type": "markdown",
      "metadata": {
        "id": "0M-Bzk2t54_J",
        "colab_type": "text"
      },
      "source": [
        ""
      ]
    },
    {
      "cell_type": "code",
      "metadata": {
        "id": "bH10GtrZ52El",
        "colab_type": "code",
        "colab": {}
      },
      "source": [
        "import math \n",
        "class Point:\n",
        "    def __init__ (self, x, y):\n",
        "        self.x = x\n",
        "        self.y = y\n",
        "        \n",
        "    def distance(self, p2):\n",
        "        return math.sqrt((self.x - p2.x)**2 +(self.y - p2.y)**2)"
      ],
      "execution_count": 0,
      "outputs": []
    },
    {
      "cell_type": "code",
      "metadata": {
        "id": "LGi5hYmT538E",
        "colab_type": "code",
        "colab": {}
      },
      "source": [
        "class polygon: \n",
        "    def __init__ (self):\n",
        "        self.vertices = []\n",
        "        \n",
        "    def add_point(self, point):\n",
        "        self.vertices.append((point))\n",
        "        \n",
        "    def perimeter(self):\n",
        "        perimeter =0 \n",
        "        points = self.vertices + [self.vertices[0]]\n",
        "        for i in range(len(self.vertices)):\n",
        "            perimeter += points[i].distance(points[i+1])\n",
        "        return perimeter"
      ],
      "execution_count": 0,
      "outputs": []
    },
    {
      "cell_type": "code",
      "metadata": {
        "id": "WfrUqEru5-IJ",
        "colab_type": "code",
        "colab": {
          "base_uri": "https://localhost:8080/",
          "height": 34
        },
        "outputId": "67fbd411-28cd-4145-9419-bfa66adb054e"
      },
      "source": [
        "square = polygon()\n",
        "square.add_point(Point(1,1))\n",
        "square.add_point(Point(1,2))\n",
        "square.add_point(Point(2,1))\n",
        "square.add_point(Point(2,2))\n",
        "square.perimeter()"
      ],
      "execution_count": 21,
      "outputs": [
        {
          "output_type": "execute_result",
          "data": {
            "text/plain": [
              "4.82842712474619"
            ]
          },
          "metadata": {
            "tags": []
          },
          "execution_count": 21
        }
      ]
    },
    {
      "cell_type": "markdown",
      "metadata": {
        "id": "jwW-h-q0Bfpd",
        "colab_type": "text"
      },
      "source": [
        "# ***Another way to calculate perimeter without defining the add_point ***"
      ]
    },
    {
      "cell_type": "code",
      "metadata": {
        "id": "U3eXw29wBcY8",
        "colab_type": "code",
        "colab": {}
      },
      "source": [
        "def dist(p1, p2):\n",
        "    return math.sqrt((p2[0] - p1[0]) ** 2 + (p2[1] - p1[1]) ** 2)\n",
        "\n",
        "class polygon: \n",
        "    def __init__ (self):\n",
        "        self.vertices = []\n",
        "\n",
        "    def perimeter(self):\n",
        "        perimeter =0 \n",
        "        for i in range(len(self.vertices)-1):\n",
        "            perimeter += dist(self.vertices[i],self.vertices[i+1]) \n",
        "        return perimeter"
      ],
      "execution_count": 0,
      "outputs": []
    },
    {
      "cell_type": "code",
      "metadata": {
        "id": "IYDrGbA6Bp1K",
        "colab_type": "code",
        "colab": {
          "base_uri": "https://localhost:8080/",
          "height": 34
        },
        "outputId": "1851f196-d089-4ba8-d178-a49f3278db74"
      },
      "source": [
        "square = polygon()\n",
        "square.vertices = [(1,1), (1,2), (2,1), (2,2)]\n",
        "square.perimeter()"
      ],
      "execution_count": 25,
      "outputs": [
        {
          "output_type": "execute_result",
          "data": {
            "text/plain": [
              "3.414213562373095"
            ]
          },
          "metadata": {
            "tags": []
          },
          "execution_count": 25
        }
      ]
    },
    {
      "cell_type": "code",
      "metadata": {
        "id": "7M9UecQyJBBR",
        "colab_type": "code",
        "colab": {}
      },
      "source": [
        "class Point:\n",
        "    def __init__(self, x, y):\n",
        "        self.x = x\n",
        "        self.y = y\n",
        "\n",
        "    def distance(self, p2):\n",
        "        return math.sqrt((self.x-p2.x)**2 + (self.y-p2.y)**2)\n",
        "\n",
        "class Polygon:\n",
        "    def __init__(self, points = []):\n",
        "        self.vertices = []\n",
        "        for point in points:\n",
        "            if isinstance(point, tuple):\n",
        "                point = Point(*point)\n",
        "            self.vertices.append(point)\n",
        "\n",
        "    def add_point(self, point):\n",
        "        self.vertices.append((point))\n",
        "\n",
        "    def perimeter(self):\n",
        "        perimeter = 0\n",
        "        points = self.vertices + [self.vertices[0]]\n",
        "        for i in range(len(self.vertices)):\n",
        "            perimeter += points[i].distance(points[i+1])\n",
        "        return perimeter"
      ],
      "execution_count": 0,
      "outputs": []
    },
    {
      "cell_type": "code",
      "metadata": {
        "id": "QMUuNpHnJC2z",
        "colab_type": "code",
        "colab": {
          "base_uri": "https://localhost:8080/",
          "height": 34
        },
        "outputId": "ef51aa8d-24c0-4478-e574-d0647f82f4e8"
      },
      "source": [
        "square = Polygon()\n",
        "square.add_point(Point(1,1))\n",
        "square.add_point(Point(1,2))\n",
        "square.add_point(Point(2,1))\n",
        "square.add_point(Point(2,2))\n",
        "square.perimeter()"
      ],
      "execution_count": 30,
      "outputs": [
        {
          "output_type": "execute_result",
          "data": {
            "text/plain": [
              "4.82842712474619"
            ]
          },
          "metadata": {
            "tags": []
          },
          "execution_count": 30
        }
      ]
    },
    {
      "cell_type": "markdown",
      "metadata": {
        "id": "1Pbc3Oo6BfCM",
        "colab_type": "text"
      },
      "source": [
        ""
      ]
    }
  ]
}