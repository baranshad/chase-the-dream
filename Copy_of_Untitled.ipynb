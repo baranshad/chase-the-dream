{
  "nbformat": 4,
  "nbformat_minor": 0,
  "metadata": {
    "colab": {
      "name": "Copy of Untitled",
      "version": "0.3.2",
      "provenance": [],
      "include_colab_link": true
    },
    "kernelspec": {
      "name": "python3",
      "display_name": "Python 3"
    }
  },
  "cells": [
    {
      "cell_type": "markdown",
      "metadata": {
        "id": "view-in-github",
        "colab_type": "text"
      },
      "source": [
        "<a href=\"https://colab.research.google.com/github/baranshad/chase-the-dream/blob/master/Copy_of_Untitled.ipynb\" target=\"_parent\"><img src=\"https://colab.research.google.com/assets/colab-badge.svg\" alt=\"Open In Colab\"/></a>"
      ]
    },
    {
      "cell_type": "markdown",
      "metadata": {
        "id": "0M-Bzk2t54_J",
        "colab_type": "text"
      },
      "source": [
        ""
      ]
    },
    {
      "cell_type": "code",
      "metadata": {
        "id": "bH10GtrZ52El",
        "colab_type": "code",
        "colab": {}
      },
      "source": [
        "import math \n",
        "class Point:\n",
        "    def __init__ (self, x, y):\n",
        "        self.x = x\n",
        "        self.y = y\n",
        "        \n",
        "    def distance(self, p2):\n",
        "        return math.sqrt((self.x - p2.x)**2 +(self.y - p2.y)**2)"
      ],
      "execution_count": 0,
      "outputs": []
    },
    {
      "cell_type": "code",
      "metadata": {
        "id": "LGi5hYmT538E",
        "colab_type": "code",
        "colab": {}
      },
      "source": [
        "class polygon: \n",
        "    def __init__ (self):\n",
        "        self.vertices = []\n",
        "        \n",
        "    def add_point(self, point):\n",
        "        self.vertices.append((point))\n",
        "        \n",
        "    def perimeter(self):\n",
        "        perimeter =0 \n",
        "        points = self.vertices + [self.vertices[0]]\n",
        "        for i in range(len(self.vertices)):\n",
        "            perimeter += points[i].distance(points[i+1])\n",
        "        return perimeter"
      ],
      "execution_count": 0,
      "outputs": []
    },
    {
      "cell_type": "code",
      "metadata": {
        "id": "WfrUqEru5-IJ",
        "colab_type": "code",
        "colab": {
          "base_uri": "https://localhost:8080/",
          "height": 34
        },
        "outputId": "67fbd411-28cd-4145-9419-bfa66adb054e"
      },
      "source": [
        "square = polygon()\n",
        "square.add_point(Point(1,1))\n",
        "square.add_point(Point(1,2))\n",
        "square.add_point(Point(2,1))\n",
        "square.add_point(Point(2,2))\n",
        "square.perimeter()"
      ],
      "execution_count": 21,
      "outputs": [
        {
          "output_type": "execute_result",
          "data": {
            "text/plain": [
              "4.82842712474619"
            ]
          },
          "metadata": {
            "tags": []
          },
          "execution_count": 21
        }
      ]
    }
  ]
}